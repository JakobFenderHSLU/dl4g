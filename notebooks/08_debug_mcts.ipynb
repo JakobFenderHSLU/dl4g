{
 "cells": [
  {
   "cell_type": "code",
   "id": "initial_id",
   "metadata": {
    "collapsed": true,
    "ExecuteTime": {
     "end_time": "2024-11-06T13:43:14.712440Z",
     "start_time": "2024-11-06T13:43:14.698330Z"
    }
   },
   "source": [
    "import multiprocessing\n",
    "import time\n",
    "import os\n",
    "\n",
    "import numpy as np\n",
    "import psutil\n",
    "from jass.game.game_sim import GameSim\n",
    "from jass.game.rule_schieber import RuleSchieber\n",
    "from tqdm import tqdm\n",
    "\n",
    "from play_strategy.determinized_mcts_play_strategy import DeterminizedMCTSPlayStrategy\n",
    "from play_strategy.nn.mcts.mcts_tree import MCTS"
   ],
   "outputs": [],
   "execution_count": 2
  },
  {
   "metadata": {
    "ExecuteTime": {
     "end_time": "2024-11-06T13:43:14.728258Z",
     "start_time": "2024-11-06T13:43:14.717044Z"
    }
   },
   "cell_type": "code",
   "source": [
    "deck = np.arange(36)\n",
    "np.random.seed(42)\n",
    "deck = np.random.permutation(deck)\n",
    "deck = deck.reshape(4, 9)\n",
    "new_deck = np.zeros((4, 36))\n",
    "new_deck[np.arange(4)[:, None], deck] = 1\n",
    "deck = new_deck\n",
    "deck, deck.shape, np.sum(deck)"
   ],
   "id": "7a19748c08d8a84f",
   "outputs": [
    {
     "data": {
      "text/plain": [
       "(array([[0., 0., 0., 0., 0., 0., 0., 0., 1., 0., 0., 0., 1., 1., 0., 0.,\n",
       "         1., 0., 0., 0., 0., 1., 0., 0., 0., 0., 1., 0., 0., 0., 1., 1.,\n",
       "         0., 0., 0., 1.],\n",
       "        [1., 0., 0., 0., 1., 1., 0., 0., 0., 1., 0., 0., 0., 0., 0., 1.,\n",
       "         0., 1., 0., 1., 0., 0., 0., 0., 0., 0., 0., 0., 0., 1., 0., 0.,\n",
       "         0., 0., 1., 0.],\n",
       "        [0., 1., 1., 1., 0., 0., 0., 0., 0., 0., 0., 1., 0., 0., 0., 0.,\n",
       "         0., 0., 0., 0., 0., 0., 0., 1., 1., 0., 0., 1., 0., 0., 0., 0.,\n",
       "         1., 1., 0., 0.],\n",
       "        [0., 0., 0., 0., 0., 0., 1., 1., 0., 0., 1., 0., 0., 0., 1., 0.,\n",
       "         0., 0., 1., 0., 1., 0., 1., 0., 0., 1., 0., 0., 1., 0., 0., 0.,\n",
       "         0., 0., 0., 0.]]),\n",
       " (4, 36),\n",
       " 36.0)"
      ]
     },
     "execution_count": 3,
     "metadata": {},
     "output_type": "execute_result"
    }
   ],
   "execution_count": 3
  },
  {
   "metadata": {
    "ExecuteTime": {
     "end_time": "2024-11-06T13:43:25.172301Z",
     "start_time": "2024-11-06T13:43:14.801944Z"
    }
   },
   "cell_type": "code",
   "source": [
    "game_sim = GameSim(RuleSchieber())\n",
    "game_sim.init_from_cards(deck, 0)\n",
    "game_sim.action_trump(1)\n",
    "n_cores = psutil.cpu_count(logical=False)\n",
    "print(n_cores)\n",
    "\n",
    "strategy = DeterminizedMCTSPlayStrategy(n_threads=n_cores, limit_s=10)\n",
    "strategy.choose_card(game_sim.get_observation())"
   ],
   "id": "1fa6250f3fe98bf5",
   "outputs": [
    {
     "name": "stdout",
     "output_type": "stream",
     "text": [
      "16\n",
      "Sum of simulations: [9654, 9923, 10052, 10008, 10071, 9638, 10121, 9890, 9884, 10047, 9944, 9989, 10044, 10029, 9755, 10315]\n"
     ]
    },
    {
     "data": {
      "text/plain": [
       "18"
      ]
     },
     "execution_count": 4,
     "metadata": {},
     "output_type": "execute_result"
    }
   ],
   "execution_count": 4
  }
 ],
 "metadata": {
  "kernelspec": {
   "display_name": "Python 3",
   "language": "python",
   "name": "python3"
  },
  "language_info": {
   "codemirror_mode": {
    "name": "ipython",
    "version": 2
   },
   "file_extension": ".py",
   "mimetype": "text/x-python",
   "name": "python",
   "nbconvert_exporter": "python",
   "pygments_lexer": "ipython2",
   "version": "2.7.6"
  }
 },
 "nbformat": 4,
 "nbformat_minor": 5
}
