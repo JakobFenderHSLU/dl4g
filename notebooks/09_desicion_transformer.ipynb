{
 "cells": [
  {
   "cell_type": "code",
   "id": "initial_id",
   "metadata": {
    "collapsed": true,
    "ExecuteTime": {
     "end_time": "2024-11-26T17:04:19.852267Z",
     "start_time": "2024-11-26T17:04:14.177930Z"
    }
   },
   "source": [
    "from transformers import DecisionTransformerConfig, DecisionTransformerModel\n",
    "\n",
    "# Initializing a DecisionTransformer configuration\n",
    "configuration = DecisionTransformerConfig()\n",
    "\n",
    "# Initializing a model (with random weights) from the configuration\n",
    "model = DecisionTransformerModel(configuration)\n",
    "\n",
    "# Accessing the model configuration\n",
    "configuration = model.config"
   ],
   "outputs": [],
   "execution_count": 1
  },
  {
   "metadata": {},
   "cell_type": "code",
   "outputs": [],
   "execution_count": null,
   "source": "",
   "id": "ff67fe586b3e3384"
  }
 ],
 "metadata": {
  "kernelspec": {
   "display_name": "Python 3",
   "language": "python",
   "name": "python3"
  },
  "language_info": {
   "codemirror_mode": {
    "name": "ipython",
    "version": 2
   },
   "file_extension": ".py",
   "mimetype": "text/x-python",
   "name": "python",
   "nbconvert_exporter": "python",
   "pygments_lexer": "ipython2",
   "version": "2.7.6"
  }
 },
 "nbformat": 4,
 "nbformat_minor": 5
}
