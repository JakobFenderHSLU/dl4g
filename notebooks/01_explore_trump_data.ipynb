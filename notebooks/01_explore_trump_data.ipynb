{
 "cells": [
  {
   "cell_type": "code",
   "id": "initial_id",
   "metadata": {
    "collapsed": true,
    "ExecuteTime": {
     "end_time": "2024-08-22T14:23:59.383090Z",
     "start_time": "2024-08-22T14:23:59.375858Z"
    }
   },
   "source": "import pandas as pd",
   "outputs": [],
   "execution_count": 25
  },
  {
   "metadata": {
    "ExecuteTime": {
     "end_time": "2024-08-22T14:23:59.414425Z",
     "start_time": "2024-08-22T14:23:59.384090Z"
    }
   },
   "cell_type": "code",
   "source": [
    "# Load the data\n",
    "df = pd.read_csv(filepath_or_buffer=\"../data/trump_data.csv\", dtype={\"trump\": int})"
   ],
   "id": "f751e8bb71641a23",
   "outputs": [],
   "execution_count": 26
  },
  {
   "metadata": {
    "ExecuteTime": {
     "end_time": "2024-08-22T14:23:59.429775Z",
     "start_time": "2024-08-22T14:23:59.415375Z"
    }
   },
   "cell_type": "code",
   "source": [
    "# Display the first few rows of the data\n",
    "df.head()"
   ],
   "id": "c1e2a9040f2f8403",
   "outputs": [
    {
     "data": {
      "text/plain": [
       "                                                hand  trump  \\\n",
       "0  [0, 1, 0, 0, 0, 1, 0, 1, 1, 0, 1, 0, 0, 0, 0, ...      0   \n",
       "1  [0, 1, 0, 0, 0, 1, 0, 1, 1, 0, 1, 0, 0, 0, 0, ...      1   \n",
       "2  [0, 1, 0, 0, 0, 1, 0, 1, 1, 0, 1, 0, 0, 0, 0, ...      2   \n",
       "3  [0, 1, 0, 0, 0, 1, 0, 1, 1, 0, 1, 0, 0, 0, 0, ...      3   \n",
       "4  [0, 1, 0, 0, 0, 1, 0, 1, 1, 0, 1, 0, 0, 0, 0, ...      4   \n",
       "\n",
       "                                               score  \n",
       "0  [140, 122, 135, 127, 152, 136, 123, 129, 157, ...  \n",
       "1  [56, 85, 81, 52, 44, 35, 55, 29, 73, 89, 36, 2...  \n",
       "2  [42, 76, 28, 19, 39, 77, 31, 43, 45, 38, 68, 2...  \n",
       "3  [109, 62, 101, 63, 91, 72, 102, 107, 103, 73, ...  \n",
       "4  [70, 51, 65, 107, 99, 104, 126, 54, 101, 126, ...  "
      ],
      "text/html": [
       "<div>\n",
       "<style scoped>\n",
       "    .dataframe tbody tr th:only-of-type {\n",
       "        vertical-align: middle;\n",
       "    }\n",
       "\n",
       "    .dataframe tbody tr th {\n",
       "        vertical-align: top;\n",
       "    }\n",
       "\n",
       "    .dataframe thead th {\n",
       "        text-align: right;\n",
       "    }\n",
       "</style>\n",
       "<table border=\"1\" class=\"dataframe\">\n",
       "  <thead>\n",
       "    <tr style=\"text-align: right;\">\n",
       "      <th></th>\n",
       "      <th>hand</th>\n",
       "      <th>trump</th>\n",
       "      <th>score</th>\n",
       "    </tr>\n",
       "  </thead>\n",
       "  <tbody>\n",
       "    <tr>\n",
       "      <th>0</th>\n",
       "      <td>[0, 1, 0, 0, 0, 1, 0, 1, 1, 0, 1, 0, 0, 0, 0, ...</td>\n",
       "      <td>0</td>\n",
       "      <td>[140, 122, 135, 127, 152, 136, 123, 129, 157, ...</td>\n",
       "    </tr>\n",
       "    <tr>\n",
       "      <th>1</th>\n",
       "      <td>[0, 1, 0, 0, 0, 1, 0, 1, 1, 0, 1, 0, 0, 0, 0, ...</td>\n",
       "      <td>1</td>\n",
       "      <td>[56, 85, 81, 52, 44, 35, 55, 29, 73, 89, 36, 2...</td>\n",
       "    </tr>\n",
       "    <tr>\n",
       "      <th>2</th>\n",
       "      <td>[0, 1, 0, 0, 0, 1, 0, 1, 1, 0, 1, 0, 0, 0, 0, ...</td>\n",
       "      <td>2</td>\n",
       "      <td>[42, 76, 28, 19, 39, 77, 31, 43, 45, 38, 68, 2...</td>\n",
       "    </tr>\n",
       "    <tr>\n",
       "      <th>3</th>\n",
       "      <td>[0, 1, 0, 0, 0, 1, 0, 1, 1, 0, 1, 0, 0, 0, 0, ...</td>\n",
       "      <td>3</td>\n",
       "      <td>[109, 62, 101, 63, 91, 72, 102, 107, 103, 73, ...</td>\n",
       "    </tr>\n",
       "    <tr>\n",
       "      <th>4</th>\n",
       "      <td>[0, 1, 0, 0, 0, 1, 0, 1, 1, 0, 1, 0, 0, 0, 0, ...</td>\n",
       "      <td>4</td>\n",
       "      <td>[70, 51, 65, 107, 99, 104, 126, 54, 101, 126, ...</td>\n",
       "    </tr>\n",
       "  </tbody>\n",
       "</table>\n",
       "</div>"
      ]
     },
     "execution_count": 27,
     "metadata": {},
     "output_type": "execute_result"
    }
   ],
   "execution_count": 27
  },
  {
   "metadata": {
    "ExecuteTime": {
     "end_time": "2024-08-22T14:23:59.586542Z",
     "start_time": "2024-08-22T14:23:59.431130Z"
    }
   },
   "cell_type": "code",
   "source": [
    "# Convert specific columns to lists of integers\n",
    "df[\"hand\"] = df[\"hand\"].apply(\n",
    "    lambda x: [int(i) for i in x.replace(\"[\", \"\").replace(\"]\", \"\").split(\",\")]\n",
    ")\n",
    "df[\"score\"] = df[\"score\"].apply(\n",
    "    lambda x: [int(i) for i in x.replace(\"[\", \"\").replace(\"]\", \"\").split(\",\")]\n",
    ")"
   ],
   "id": "cdf420f8662c5c03",
   "outputs": [],
   "execution_count": 28
  },
  {
   "metadata": {
    "ExecuteTime": {
     "end_time": "2024-08-22T14:23:59.602065Z",
     "start_time": "2024-08-22T14:23:59.587544Z"
    }
   },
   "cell_type": "code",
   "source": [
    "# add score average column\n",
    "df[\"score_avg\"] = df[\"score\"].apply(lambda x: sum(x) / len(x))"
   ],
   "id": "220759dc8520f8e2",
   "outputs": [],
   "execution_count": 29
  },
  {
   "metadata": {
    "ExecuteTime": {
     "end_time": "2024-08-22T14:24:41.014223Z",
     "start_time": "2024-08-22T14:24:40.996737Z"
    }
   },
   "cell_type": "code",
   "source": [
    "# best trump\n",
    "df.groupby(\"trump\")[\"score_avg\"].mean()"
   ],
   "id": "923cfc9da6e185ba",
   "outputs": [
    {
     "data": {
      "text/plain": [
       "trump\n",
       "0    77.67279\n",
       "1    77.52425\n",
       "2    78.99789\n",
       "3    75.39861\n",
       "4    71.43809\n",
       "5    72.42323\n",
       "Name: score_avg, dtype: float64"
      ]
     },
     "execution_count": 31,
     "metadata": {},
     "output_type": "execute_result"
    }
   ],
   "execution_count": 31
  }
 ],
 "metadata": {
  "kernelspec": {
   "display_name": "Python 3",
   "language": "python",
   "name": "python3"
  },
  "language_info": {
   "codemirror_mode": {
    "name": "ipython",
    "version": 2
   },
   "file_extension": ".py",
   "mimetype": "text/x-python",
   "name": "python",
   "nbconvert_exporter": "python",
   "pygments_lexer": "ipython2",
   "version": "2.7.6"
  }
 },
 "nbformat": 4,
 "nbformat_minor": 5
}
