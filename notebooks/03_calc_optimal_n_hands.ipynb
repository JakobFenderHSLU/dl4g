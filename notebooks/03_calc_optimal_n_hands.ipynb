{
 "cells": [
  {
   "cell_type": "code",
   "id": "initial_id",
   "metadata": {
    "collapsed": true,
    "ExecuteTime": {
     "end_time": "2024-08-24T16:10:51.530480Z",
     "start_time": "2024-08-24T16:10:51.282768Z"
    }
   },
   "source": "from src.trump_strategy.nn.trump_data_generator import TrumpDataGenerator",
   "outputs": [],
   "execution_count": 1
  },
  {
   "metadata": {
    "ExecuteTime": {
     "end_time": "2024-08-24T16:10:51.546153Z",
     "start_time": "2024-08-24T16:10:51.531988Z"
    }
   },
   "cell_type": "code",
   "source": [
    "data_gen = TrumpDataGenerator(\n",
    "    n_play_per_hand=10\n",
    ")"
   ],
   "id": "673d79da7379210e",
   "outputs": [],
   "execution_count": 2
  },
  {
   "metadata": {
    "ExecuteTime": {
     "end_time": "2024-08-24T16:10:51.608203Z",
     "start_time": "2024-08-24T16:10:51.547662Z"
    }
   },
   "cell_type": "code",
   "source": [
    "result = data_gen.__next__()\n",
    "\n",
    "result"
   ],
   "id": "846b696614ab875b",
   "outputs": [
    {
     "data": {
      "text/plain": [
       "array([  4.,  11.,  30.,  27.,   5.,  32.,   0.,  18.,  16.,  23.,  25.,\n",
       "         1.,  19.,   7.,  33.,  10.,   8.,  15.,  20.,  31.,  12.,  26.,\n",
       "         6.,   9.,  22.,  34.,  21.,  35.,  14.,   2.,  29.,  13.,  28.,\n",
       "        17.,   3.,  24.,  76.,  72.,  87., 118.,  99.,  55.,  68.,  60.,\n",
       "        91.,  76.,  63.,  88., 116.,  52.,  59., 118.,  77., 121.,  63.,\n",
       "        82., 110., 122., 104.,  75.,  71.,  74., 125.,  96.,  99., 109.,\n",
       "       117., 107.,  99., 103., 108., 139., 124., 138., 135., 113.,  95.,\n",
       "       134.,  98.,  58., 107.,  72., 104.,  79.,  78., 106.,  70.,  83.,\n",
       "        57.,  53.,   0.,  20., 100.,  61.,  34., 101.])"
      ]
     },
     "execution_count": 3,
     "metadata": {},
     "output_type": "execute_result"
    }
   ],
   "execution_count": 3
  }
 ],
 "metadata": {
  "kernelspec": {
   "display_name": "Python 3",
   "language": "python",
   "name": "python3"
  },
  "language_info": {
   "codemirror_mode": {
    "name": "ipython",
    "version": 2
   },
   "file_extension": ".py",
   "mimetype": "text/x-python",
   "name": "python",
   "nbconvert_exporter": "python",
   "pygments_lexer": "ipython2",
   "version": "2.7.6"
  }
 },
 "nbformat": 4,
 "nbformat_minor": 5
}
