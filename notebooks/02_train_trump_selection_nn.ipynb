{
 "cells": [
  {
   "cell_type": "code",
   "id": "initial_id",
   "metadata": {
    "collapsed": true,
    "ExecuteTime": {
     "end_time": "2024-08-22T14:43:02.619195Z",
     "start_time": "2024-08-22T14:43:02.376638Z"
    }
   },
   "source": "import pandas as pd\n",
   "outputs": [],
   "execution_count": 1
  },
  {
   "metadata": {
    "ExecuteTime": {
     "end_time": "2024-08-22T14:43:02.744415Z",
     "start_time": "2024-08-22T14:43:02.620701Z"
    }
   },
   "cell_type": "code",
   "source": [
    "# Load the data\n",
    "df = pd.read_csv(\n",
    "    filepath_or_buffer=\"../data/trump_data.csv\",\n",
    "    dtype={\"trump\": int}\n",
    ")\n",
    "\n",
    "# Convert specific columns to lists of integers\n",
    "df['hand'] = df['hand'].apply(lambda x: [int(i) for i in x.replace(\"[\", \"\").replace(\"]\", \"\").split(\",\")])\n",
    "df['score'] = df['score'].apply(lambda x: [int(i) for i in x.replace(\"[\", \"\").replace(\"]\", \"\").split(\",\")])\n",
    "\n",
    "df[\"score_avg\"] = df[\"score\"].apply(lambda x: sum(x) / len(x))\n",
    "df[\"hand_id\"] = df[\"hand\"].apply(lambda hand: int(''.join(str(x) for x in hand), 2))"
   ],
   "id": "906838a1ca98037f",
   "outputs": [],
   "execution_count": 2
  },
  {
   "metadata": {
    "ExecuteTime": {
     "end_time": "2024-08-22T14:43:02.759743Z",
     "start_time": "2024-08-22T14:43:02.744415Z"
    }
   },
   "cell_type": "code",
   "source": [
    "unique_hands = df[\"hand_id\"].unique()\n",
    "\n",
    "# train, validation, test split unique hands\n",
    "split = [int(len(unique_hands) * 0.8), int(len(unique_hands) * 0.9)]\n",
    "\n",
    "train_hands = unique_hands[:split[0]]\n",
    "validation_hands = unique_hands[split[0]:split[1]]\n",
    "test_hands = unique_hands[split[1]:]\n",
    "\n",
    "train_df = df[df[\"hand_id\"].isin(train_hands)]\n",
    "validation_df = df[df[\"hand_id\"].isin(validation_hands)]\n",
    "test_df = df[df[\"hand_id\"].isin(test_hands)]"
   ],
   "id": "a405cf0ae72f9f62",
   "outputs": [],
   "execution_count": 3
  }
 ],
 "metadata": {
  "kernelspec": {
   "display_name": "Python 3",
   "language": "python",
   "name": "python3"
  },
  "language_info": {
   "codemirror_mode": {
    "name": "ipython",
    "version": 2
   },
   "file_extension": ".py",
   "mimetype": "text/x-python",
   "name": "python",
   "nbconvert_exporter": "python",
   "pygments_lexer": "ipython2",
   "version": "2.7.6"
  }
 },
 "nbformat": 4,
 "nbformat_minor": 5
}
