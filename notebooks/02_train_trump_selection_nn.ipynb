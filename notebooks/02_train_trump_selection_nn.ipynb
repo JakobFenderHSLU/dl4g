{
 "cells": [
  {
   "cell_type": "code",
   "id": "initial_id",
   "metadata": {
    "collapsed": true,
    "ExecuteTime": {
     "end_time": "2024-08-23T22:42:13.984382Z",
     "start_time": "2024-08-23T22:42:13.976657Z"
    }
   },
   "source": "import pandas as pd\n",
   "outputs": [],
   "execution_count": 18
  },
  {
   "metadata": {
    "ExecuteTime": {
     "end_time": "2024-08-23T22:53:02.232011Z",
     "start_time": "2024-08-23T22:53:01.983282Z"
    }
   },
   "cell_type": "code",
   "source": [
    "# Load the data\n",
    "df = pd.read_csv(\n",
    "    filepath_or_buffer=\"../data/trump_data.csv\",\n",
    "    dtype={\"trump\": int}\n",
    ")\n",
    "\n",
    "# Convert specific columns to lists of integers\n",
    "df['hand'] = df['hand'].apply(lambda x: [int(i) for i in x.replace(\"[\", \"\").replace(\"]\", \"\").split(\",\")])\n",
    "df['score'] = df['score'].apply(lambda x: [int(i) for i in x.replace(\"[\", \"\").replace(\"]\", \"\").split(\",\")])\n",
    "\n",
    "df[\"score_avg\"] = df[\"score\"].apply(lambda x: sum(x) / len(x))\n",
    "df[\"score_median\"] = df[\"score\"].apply(lambda x: sorted(x)[len(x) // 2])\n",
    "df[\"score_06\"] = df[\"score\"].apply(lambda x: sorted(x)[int(len(x) * 0.6)])\n",
    "df[\"score_07\"] = df[\"score\"].apply(lambda x: sorted(x)[int(len(x) * 0.7)])\n",
    "df[\"score_08\"] = df[\"score\"].apply(lambda x: sorted(x)[int(len(x) * 0.8)])\n",
    "df[\"score_09\"] = df[\"score\"].apply(lambda x: sorted(x)[int(len(x) * 0.9)])\n",
    "\n",
    "df[\"hand_id\"] = df[\"hand\"].apply(lambda hand: int(''.join(str(x) for x in hand), 2))"
   ],
   "id": "906838a1ca98037f",
   "outputs": [],
   "execution_count": 24
  },
  {
   "metadata": {
    "ExecuteTime": {
     "end_time": "2024-08-23T23:21:26.692373Z",
     "start_time": "2024-08-23T23:21:26.358255Z"
    }
   },
   "cell_type": "code",
   "source": [
    "unique_hands = df[\"hand_id\"].unique()\n",
    "best_trump = {\n",
    "    hand: df[df[\"hand_id\"] == hand].loc[df[df[\"hand_id\"] == hand][\"score_avg\"].idxmax()][\"trump\"]\n",
    "    for hand in unique_hands\n",
    "}\n",
    "\n",
    "# get best trump per unique hand \n",
    "df[\"best_trump\"] = df[\"hand_id\"].apply(lambda x: best_trump[x])\n",
    "\n",
    "df.head(1000)"
   ],
   "id": "8f39b869374ec961",
   "outputs": [
    {
     "data": {
      "text/plain": [
       "6000"
      ]
     },
     "execution_count": 26,
     "metadata": {},
     "output_type": "execute_result"
    }
   ],
   "execution_count": 26
  },
  {
   "metadata": {
    "ExecuteTime": {
     "end_time": "2024-08-23T22:42:14.433366Z",
     "start_time": "2024-08-23T22:42:14.419677Z"
    }
   },
   "cell_type": "code",
   "source": [
    "# train, validation, test split unique hands\n",
    "split = [int(len(unique_hands) * 0.8), int(len(unique_hands) * 0.9)]\n",
    "\n",
    "train_hands = unique_hands[:split[0]]\n",
    "validation_hands = unique_hands[split[0]:split[1]]\n",
    "test_hands = unique_hands[split[1]:]\n",
    "\n",
    "train_df = df[df[\"hand_id\"].isin(train_hands)][[\"hand\", \"best_trump\"]]\n",
    "validation_df = df[df[\"hand_id\"].isin(validation_hands)][[\"hand\", \"best_trump\"]]\n",
    "test_df = df[df[\"hand_id\"].isin(test_hands)][[\"hand\", \"best_trump\"]]"
   ],
   "id": "a405cf0ae72f9f62",
   "outputs": [],
   "execution_count": 21
  },
  {
   "metadata": {
    "ExecuteTime": {
     "end_time": "2024-08-23T22:42:14.558393Z",
     "start_time": "2024-08-23T22:42:14.434365Z"
    }
   },
   "cell_type": "code",
   "source": [
    "import torch\n",
    "from torch import nn\n",
    "import torch.nn.Module as Module\n",
    "\n",
    "\n",
    "class TrumpSelectorNN(Module):\n",
    "    def __init__(self):\n",
    "        super().__init__()\n",
    "        self.fc = nn.Sequential(\n",
    "            nn.Linear(36, 128),\n",
    "            nn.ReLU(),\n",
    "            nn.Linear(128, 64),\n",
    "            nn.ReLU(),\n",
    "            nn.Linear(64, 32),\n",
    "            nn.ReLU(),\n",
    "            nn.Linear(32, 16),\n",
    "            nn.ReLU(),\n",
    "            nn.Linear(16, 6)\n",
    "        )\n",
    "\n",
    "    def forward(self, x):\n",
    "        return self.fc(x)\n",
    "\n",
    "\n",
    "def train():\n",
    "    model = TrumpSelectorNN()\n",
    "    criterion = nn.CrossEntropyLoss()\n",
    "    optimizer = torch.optim.Adam(model.parameters(), lr=0.01, weight_decay=1e-5)\n",
    "    \n",
    "    device = torch.device(\"cuda\" if torch.cuda.is_available() else \"cpu\")\n",
    "    print(f\"Using device: {device}\")\n",
    "\n",
    "    for epoch in range(1000):\n",
    "        print(f\"Epoch: {epoch}\")\n",
    "        optimizer.zero_grad()\n",
    "        output = model(train_df[\"hand\"].apply(lambda x: torch.tensor(x).float()).tolist())\n",
    "        loss = criterion(output, torch.tensor(train_df[\"best_trump\"]).long())\n",
    "        loss.backward()\n",
    "        optimizer.step()\n",
    "\n",
    "        if epoch % 100 == 0:\n",
    "            print(f\"Epoch: {epoch}, Loss: {loss.item()}\")\n",
    "\n",
    "    return model"
   ],
   "id": "f41bc664c6d8f811",
   "outputs": [
    {
     "ename": "OSError",
     "evalue": "[WinError 126] The specified module could not be found. Error loading \"C:\\code\\dl4g\\.venv\\lib\\site-packages\\torch\\lib\\fbgemm.dll\" or one of its dependencies.",
     "output_type": "error",
     "traceback": [
      "\u001B[1;31m---------------------------------------------------------------------------\u001B[0m",
      "\u001B[1;31mOSError\u001B[0m                                   Traceback (most recent call last)",
      "Cell \u001B[1;32mIn[22], line 1\u001B[0m\n\u001B[1;32m----> 1\u001B[0m \u001B[38;5;28;01mimport\u001B[39;00m \u001B[38;5;21;01mtorch\u001B[39;00m\n\u001B[0;32m      2\u001B[0m \u001B[38;5;28;01mfrom\u001B[39;00m \u001B[38;5;21;01mtorch\u001B[39;00m \u001B[38;5;28;01mimport\u001B[39;00m nn\n\u001B[0;32m      3\u001B[0m \u001B[38;5;28;01mimport\u001B[39;00m \u001B[38;5;21;01mtorch\u001B[39;00m\u001B[38;5;21;01m.\u001B[39;00m\u001B[38;5;21;01mnn\u001B[39;00m\u001B[38;5;21;01m.\u001B[39;00m\u001B[38;5;21;01mModule\u001B[39;00m \u001B[38;5;28;01mas\u001B[39;00m \u001B[38;5;21;01mModule\u001B[39;00m\n",
      "File \u001B[1;32mC:\\code\\dl4g\\.venv\\lib\\site-packages\\torch\\__init__.py:148\u001B[0m\n\u001B[0;32m    146\u001B[0m                 err \u001B[38;5;241m=\u001B[39m ctypes\u001B[38;5;241m.\u001B[39mWinError(ctypes\u001B[38;5;241m.\u001B[39mget_last_error())\n\u001B[0;32m    147\u001B[0m                 err\u001B[38;5;241m.\u001B[39mstrerror \u001B[38;5;241m+\u001B[39m\u001B[38;5;241m=\u001B[39m \u001B[38;5;124mf\u001B[39m\u001B[38;5;124m'\u001B[39m\u001B[38;5;124m Error loading \u001B[39m\u001B[38;5;124m\"\u001B[39m\u001B[38;5;132;01m{\u001B[39;00mdll\u001B[38;5;132;01m}\u001B[39;00m\u001B[38;5;124m\"\u001B[39m\u001B[38;5;124m or one of its dependencies.\u001B[39m\u001B[38;5;124m'\u001B[39m\n\u001B[1;32m--> 148\u001B[0m                 \u001B[38;5;28;01mraise\u001B[39;00m err\n\u001B[0;32m    150\u001B[0m     kernel32\u001B[38;5;241m.\u001B[39mSetErrorMode(prev_error_mode)\n\u001B[0;32m    153\u001B[0m \u001B[38;5;28;01mdef\u001B[39;00m \u001B[38;5;21m_preload_cuda_deps\u001B[39m(lib_folder, lib_name):\n",
      "\u001B[1;31mOSError\u001B[0m: [WinError 126] The specified module could not be found. Error loading \"C:\\code\\dl4g\\.venv\\lib\\site-packages\\torch\\lib\\fbgemm.dll\" or one of its dependencies."
     ]
    }
   ],
   "execution_count": 22
  },
  {
   "metadata": {},
   "cell_type": "markdown",
   "source": "# Unfinished and wont be developed further",
   "id": "a3c1bacde41c9704"
  }
 ],
 "metadata": {
  "kernelspec": {
   "display_name": "Python 3",
   "language": "python",
   "name": "python3"
  },
  "language_info": {
   "codemirror_mode": {
    "name": "ipython",
    "version": 2
   },
   "file_extension": ".py",
   "mimetype": "text/x-python",
   "name": "python",
   "nbconvert_exporter": "python",
   "pygments_lexer": "ipython2",
   "version": "2.7.6"
  }
 },
 "nbformat": 4,
 "nbformat_minor": 5
}
