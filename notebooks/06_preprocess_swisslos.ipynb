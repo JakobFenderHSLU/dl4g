{
 "cells": [
  {
   "cell_type": "code",
   "id": "initial_id",
   "metadata": {
    "collapsed": true,
    "ExecuteTime": {
     "end_time": "2024-11-27T14:06:59.645645Z",
     "start_time": "2024-11-27T14:06:59.618617Z"
    }
   },
   "source": [
    "import glob\n",
    "from concurrent.futures import ProcessPoolExecutor\n",
    "\n",
    "import numpy as np\n",
    "import pandas as pd\n",
    "import seaborn as sns\n",
    "from jass.game.const import card_ids\n",
    "from tqdm import tqdm\n"
   ],
   "outputs": [],
   "execution_count": 2
  },
  {
   "metadata": {
    "ExecuteTime": {
     "end_time": "2024-11-04T17:40:34.670315Z",
     "start_time": "2024-11-04T17:40:27.482551Z"
    }
   },
   "cell_type": "code",
   "source": [
    "# df = pd.concat([pd.read_json(file, lines=True) for file in glob.glob('../data/swisslos/*.txt')])\n",
    "df = pd.read_json(\"../data/swisslos/jass_game_0001.txt\", lines=True)\n",
    "df.head(2)"
   ],
   "id": "d9a701907f6a1a94",
   "outputs": [
    {
     "data": {
      "text/plain": [
       "                                                game                date  \\\n",
       "0  {'version': 'V0.2', 'trump': 1, 'dealer': 2, '... 2017-10-13 22:31:05   \n",
       "1  {'version': 'V0.2', 'trump': 1, 'dealer': 0, '... 2017-10-13 22:47:34   \n",
       "\n",
       "                     player_ids  \n",
       "0  [58663, 21516, 41630, 70654]  \n",
       "1   [36972, 67618, 5202, 60659]  "
      ],
      "text/html": [
       "<div>\n",
       "<style scoped>\n",
       "    .dataframe tbody tr th:only-of-type {\n",
       "        vertical-align: middle;\n",
       "    }\n",
       "\n",
       "    .dataframe tbody tr th {\n",
       "        vertical-align: top;\n",
       "    }\n",
       "\n",
       "    .dataframe thead th {\n",
       "        text-align: right;\n",
       "    }\n",
       "</style>\n",
       "<table border=\"1\" class=\"dataframe\">\n",
       "  <thead>\n",
       "    <tr style=\"text-align: right;\">\n",
       "      <th></th>\n",
       "      <th>game</th>\n",
       "      <th>date</th>\n",
       "      <th>player_ids</th>\n",
       "    </tr>\n",
       "  </thead>\n",
       "  <tbody>\n",
       "    <tr>\n",
       "      <th>0</th>\n",
       "      <td>{'version': 'V0.2', 'trump': 1, 'dealer': 2, '...</td>\n",
       "      <td>2017-10-13 22:31:05</td>\n",
       "      <td>[58663, 21516, 41630, 70654]</td>\n",
       "    </tr>\n",
       "    <tr>\n",
       "      <th>1</th>\n",
       "      <td>{'version': 'V0.2', 'trump': 1, 'dealer': 0, '...</td>\n",
       "      <td>2017-10-13 22:47:34</td>\n",
       "      <td>[36972, 67618, 5202, 60659]</td>\n",
       "    </tr>\n",
       "  </tbody>\n",
       "</table>\n",
       "</div>"
      ]
     },
     "execution_count": 86,
     "metadata": {},
     "output_type": "execute_result"
    }
   ],
   "execution_count": 86
  },
  {
   "metadata": {
    "ExecuteTime": {
     "end_time": "2024-11-04T17:40:34.763170Z",
     "start_time": "2024-11-04T17:40:34.733725Z"
    }
   },
   "cell_type": "code",
   "source": [
    "player_stats = pd.read_json(\"../data/swisslos/player_all_stat.json\")\n",
    "player_stats.head(2)"
   ],
   "id": "a5321b7f0bd9c791",
   "outputs": [
    {
     "data": {
      "text/plain": [
       "     id       mean        std       nr\n",
       "0     0  78.433100  42.186764  1978858\n",
       "1  6955  76.191936  41.780344     4241"
      ],
      "text/html": [
       "<div>\n",
       "<style scoped>\n",
       "    .dataframe tbody tr th:only-of-type {\n",
       "        vertical-align: middle;\n",
       "    }\n",
       "\n",
       "    .dataframe tbody tr th {\n",
       "        vertical-align: top;\n",
       "    }\n",
       "\n",
       "    .dataframe thead th {\n",
       "        text-align: right;\n",
       "    }\n",
       "</style>\n",
       "<table border=\"1\" class=\"dataframe\">\n",
       "  <thead>\n",
       "    <tr style=\"text-align: right;\">\n",
       "      <th></th>\n",
       "      <th>id</th>\n",
       "      <th>mean</th>\n",
       "      <th>std</th>\n",
       "      <th>nr</th>\n",
       "    </tr>\n",
       "  </thead>\n",
       "  <tbody>\n",
       "    <tr>\n",
       "      <th>0</th>\n",
       "      <td>0</td>\n",
       "      <td>78.433100</td>\n",
       "      <td>42.186764</td>\n",
       "      <td>1978858</td>\n",
       "    </tr>\n",
       "    <tr>\n",
       "      <th>1</th>\n",
       "      <td>6955</td>\n",
       "      <td>76.191936</td>\n",
       "      <td>41.780344</td>\n",
       "      <td>4241</td>\n",
       "    </tr>\n",
       "  </tbody>\n",
       "</table>\n",
       "</div>"
      ]
     },
     "execution_count": 87,
     "metadata": {},
     "output_type": "execute_result"
    }
   ],
   "execution_count": 87
  },
  {
   "metadata": {
    "ExecuteTime": {
     "end_time": "2024-11-04T17:40:35.089441Z",
     "start_time": "2024-11-04T17:40:34.886528Z"
    }
   },
   "cell_type": "code",
   "source": [
    "sns.set(style=\"whitegrid\")\n",
    "sns.histplot(player_stats[\"mean\"], bins=157)"
   ],
   "id": "e88a241c244ae2d",
   "outputs": [
    {
     "data": {
      "text/plain": [
       "<Axes: xlabel='mean', ylabel='Count'>"
      ]
     },
     "execution_count": 88,
     "metadata": {},
     "output_type": "execute_result"
    },
    {
     "data": {
      "text/plain": [
       "<Figure size 640x480 with 1 Axes>"
      ],
      "image/png": "[encoded data removed]"
     },
     "metadata": {},
     "output_type": "display_data"
    }
   ],
   "execution_count": 88
  },
  {
   "metadata": {
    "ExecuteTime": {
     "end_time": "2024-11-04T17:40:35.291705Z",
     "start_time": "2024-11-04T17:40:35.122614Z"
    }
   },
   "cell_type": "code",
   "source": [
    "sns.histplot(player_stats[\"std\"], bins=157)"
   ],
   "id": "8d67560f248206be",
   "outputs": [
    {
     "data": {
      "text/plain": [
       "<Axes: xlabel='std', ylabel='Count'>"
      ]
     },
     "execution_count": 89,
     "metadata": {},
     "output_type": "execute_result"
    },
    {
     "data": {
      "text/plain": [
       "<Figure size 640x480 with 1 Axes>"
      ],
      "image/png": "[encoded data removed]"
     },
     "metadata": {},
     "output_type": "display_data"
    }
   ],
   "execution_count": 89
  },
  {
   "metadata": {
    "ExecuteTime": {
     "end_time": "2024-11-04T17:40:35.603930Z",
     "start_time": "2024-11-04T17:40:35.309424Z"
    }
   },
   "cell_type": "code",
   "source": [
    "sns.histplot(player_stats[\"nr\"], log_scale=True)"
   ],
   "id": "d3350baf681c80d2",
   "outputs": [
    {
     "data": {
      "text/plain": [
       "<Axes: xlabel='nr', ylabel='Count'>"
      ]
     },
     "execution_count": 90,
     "metadata": {},
     "output_type": "execute_result"
    },
    {
     "data": {
      "text/plain": [
       "<Figure size 640x480 with 1 Axes>"
      ],
      "image/png": "[encoded data removed]"
     },
     "metadata": {},
     "output_type": "display_data"
    }
   ],
   "execution_count": 90
  },
  {
   "metadata": {
    "ExecuteTime": {
     "end_time": "2024-11-04T17:40:35.650907Z",
     "start_time": "2024-11-04T17:40:35.636721Z"
    }
   },
   "cell_type": "code",
   "source": "len(player_stats[player_stats[\"nr\"] > 100]) / len(player_stats)",
   "id": "6294dc390b908c6c",
   "outputs": [
    {
     "data": {
      "text/plain": [
       "0.4703840312432198"
      ]
     },
     "execution_count": 91,
     "metadata": {},
     "output_type": "execute_result"
    }
   ],
   "execution_count": 91
  },
  {
   "metadata": {
    "ExecuteTime": {
     "end_time": "2024-11-04T17:44:01.348017Z",
     "start_time": "2024-11-04T17:44:01.341017Z"
    }
   },
   "cell_type": "code",
   "source": [
    "good_players = player_stats[\n",
    "    (player_stats[\"mean\"] > 75)\n",
    "    & (player_stats[\"std\"] < 45)\n",
    "    & (player_stats[\"nr\"] > 200)\n",
    "    ]\n",
    "len(good_players) / len(player_stats)"
   ],
   "id": "d565d022e698749f",
   "outputs": [
    {
     "data": {
      "text/plain": [
       "0.3835973096116294"
      ]
     },
     "execution_count": 96,
     "metadata": {},
     "output_type": "execute_result"
    }
   ],
   "execution_count": 96
  },
  {
   "metadata": {
    "ExecuteTime": {
     "end_time": "2024-11-04T17:44:03.559748Z",
     "start_time": "2024-11-04T17:44:03.539759Z"
    }
   },
   "cell_type": "code",
   "source": "good_players",
   "id": "617ea75b2bf923ef",
   "outputs": [
    {
     "data": {
      "text/plain": [
       "         id       mean        std       nr\n",
       "0         0  78.433100  42.186764  1978858\n",
       "1      6955  76.191936  41.780344     4241\n",
       "2     54404  78.010880  41.985297     7445\n",
       "3     74994  76.775460  41.428476     7669\n",
       "4     56143  76.774029  41.546253      978\n",
       "...     ...        ...        ...      ...\n",
       "4102  80793  78.917933  41.848034      987\n",
       "4120  51792  79.970339  42.504307      236\n",
       "4129  80690  79.126394  41.886472      269\n",
       "4251  30717  76.034985  40.692097      343\n",
       "4299  44407  78.541796  41.130764      323\n",
       "\n",
       "[1768 rows x 4 columns]"
      ],
      "text/html": [
       "<div>\n",
       "<style scoped>\n",
       "    .dataframe tbody tr th:only-of-type {\n",
       "        vertical-align: middle;\n",
       "    }\n",
       "\n",
       "    .dataframe tbody tr th {\n",
       "        vertical-align: top;\n",
       "    }\n",
       "\n",
       "    .dataframe thead th {\n",
       "        text-align: right;\n",
       "    }\n",
       "</style>\n",
       "<table border=\"1\" class=\"dataframe\">\n",
       "  <thead>\n",
       "    <tr style=\"text-align: right;\">\n",
       "      <th></th>\n",
       "      <th>id</th>\n",
       "      <th>mean</th>\n",
       "      <th>std</th>\n",
       "      <th>nr</th>\n",
       "    </tr>\n",
       "  </thead>\n",
       "  <tbody>\n",
       "    <tr>\n",
       "      <th>0</th>\n",
       "      <td>0</td>\n",
       "      <td>78.433100</td>\n",
       "      <td>42.186764</td>\n",
       "      <td>1978858</td>\n",
       "    </tr>\n",
       "    <tr>\n",
       "      <th>1</th>\n",
       "      <td>6955</td>\n",
       "      <td>76.191936</td>\n",
       "      <td>41.780344</td>\n",
       "      <td>4241</td>\n",
       "    </tr>\n",
       "    <tr>\n",
       "      <th>2</th>\n",
       "      <td>54404</td>\n",
       "      <td>78.010880</td>\n",
       "      <td>41.985297</td>\n",
       "      <td>7445</td>\n",
       "    </tr>\n",
       "    <tr>\n",
       "      <th>3</th>\n",
       "      <td>74994</td>\n",
       "      <td>76.775460</td>\n",
       "      <td>41.428476</td>\n",
       "      <td>7669</td>\n",
       "    </tr>\n",
       "    <tr>\n",
       "      <th>4</th>\n",
       "      <td>56143</td>\n",
       "      <td>76.774029</td>\n",
       "      <td>41.546253</td>\n",
       "      <td>978</td>\n",
       "    </tr>\n",
       "    <tr>\n",
       "      <th>...</th>\n",
       "      <td>...</td>\n",
       "      <td>...</td>\n",
       "      <td>...</td>\n",
       "      <td>...</td>\n",
       "    </tr>\n",
       "    <tr>\n",
       "      <th>4102</th>\n",
       "      <td>80793</td>\n",
       "      <td>78.917933</td>\n",
       "      <td>41.848034</td>\n",
       "      <td>987</td>\n",
       "    </tr>\n",
       "    <tr>\n",
       "      <th>4120</th>\n",
       "      <td>51792</td>\n",
       "      <td>79.970339</td>\n",
       "      <td>42.504307</td>\n",
       "      <td>236</td>\n",
       "    </tr>\n",
       "    <tr>\n",
       "      <th>4129</th>\n",
       "      <td>80690</td>\n",
       "      <td>79.126394</td>\n",
       "      <td>41.886472</td>\n",
       "      <td>269</td>\n",
       "    </tr>\n",
       "    <tr>\n",
       "      <th>4251</th>\n",
       "      <td>30717</td>\n",
       "      <td>76.034985</td>\n",
       "      <td>40.692097</td>\n",
       "      <td>343</td>\n",
       "    </tr>\n",
       "    <tr>\n",
       "      <th>4299</th>\n",
       "      <td>44407</td>\n",
       "      <td>78.541796</td>\n",
       "      <td>41.130764</td>\n",
       "      <td>323</td>\n",
       "    </tr>\n",
       "  </tbody>\n",
       "</table>\n",
       "<p>1768 rows × 4 columns</p>\n",
       "</div>"
      ]
     },
     "execution_count": 97,
     "metadata": {},
     "output_type": "execute_result"
    }
   ],
   "execution_count": 97
  },
  {
   "metadata": {
    "ExecuteTime": {
     "end_time": "2024-11-04T17:44:04.929Z",
     "start_time": "2024-11-04T17:44:04.925999Z"
    }
   },
   "cell_type": "code",
   "source": [
    "# games where 3/4 players are good\n",
    "good_players = good_players[\"id\"]"
   ],
   "id": "5247df41f74b7386",
   "outputs": [],
   "execution_count": 98
  },
  {
   "metadata": {
    "ExecuteTime": {
     "end_time": "2024-11-04T17:44:13.471604Z",
     "start_time": "2024-11-04T17:44:05.713423Z"
    }
   },
   "cell_type": "code",
   "source": [
    "good_games = df[df[\"player_ids\"].apply(lambda x: len(set(x) & set(good_players)) == 4)]\n",
    "# good_games.head(2)\n",
    "len(good_games) / len(df)"
   ],
   "id": "cda2a2ac7fd01233",
   "outputs": [
    {
     "data": {
      "text/plain": [
       "0.49013"
      ]
     },
     "execution_count": 99,
     "metadata": {},
     "output_type": "execute_result"
    }
   ],
   "execution_count": 99
  },
  {
   "metadata": {
    "ExecuteTime": {
     "end_time": "2024-11-04T18:07:42.168908Z",
     "start_time": "2024-11-04T17:47:34.027183Z"
    }
   },
   "cell_type": "code",
   "source": [
    "all_good_games = pd.DataFrame()\n",
    "all_games_len = 0\n",
    "for df in tqdm(glob.glob(\"../data/swisslos/*.txt\")):\n",
    "    df = pd.read_json(df, lines=True)\n",
    "    good_games = df[\n",
    "        df[\"player_ids\"].apply(lambda x: len(set(x) & set(good_players)) == 4)\n",
    "    ]\n",
    "    all_good_games = pd.concat([all_good_games, good_games])\n",
    "    all_games_len += len(df)"
   ],
   "id": "d9f8ac0a06c7a503",
   "outputs": [
    {
     "name": "stderr",
     "output_type": "stream",
     "text": [
      "100%|██████████| 19/19 [20:07<00:00, 63.57s/it] \n"
     ]
    },
    {
     "data": {
      "text/plain": [
       "49.45612030350124"
      ]
     },
     "execution_count": 105,
     "metadata": {},
     "output_type": "execute_result"
    }
   ],
   "execution_count": 105
  },
  {
   "metadata": {
    "ExecuteTime": {
     "end_time": "2024-11-04T18:07:43.076611Z",
     "start_time": "2024-11-04T18:07:43.064611Z"
    }
   },
   "cell_type": "code",
   "source": "len(all_good_games) / all_games_len",
   "id": "9c90a735e3fc33b",
   "outputs": [
    {
     "data": {
      "text/plain": [
       "0.5938932244639872"
      ]
     },
     "execution_count": 106,
     "metadata": {},
     "output_type": "execute_result"
    }
   ],
   "execution_count": 106
  },
  {
   "metadata": {
    "ExecuteTime": {
     "end_time": "2024-11-04T18:09:07.799077Z",
     "start_time": "2024-11-04T18:07:43.595186Z"
    }
   },
   "cell_type": "code",
   "source": [
    "all_good_games.to_json(\"../data/swisslos/good_games.json\", lines=True, orient=\"records\")"
   ],
   "id": "cbb1c7b36959887b",
   "outputs": [],
   "execution_count": 107
  },
  {
   "metadata": {
    "ExecuteTime": {
     "end_time": "2024-11-27T14:07:08.443560Z",
     "start_time": "2024-11-27T14:07:08.430334Z"
    }
   },
   "cell_type": "code",
   "source": [
    "all_good_games = pd.read_json(\n",
    "    \"../data/swisslos/good_games.json\", lines=True, orient=\"records\", nrows=100\n",
    ")"
   ],
   "id": "4abc3d051ee9a4cb",
   "outputs": [],
   "execution_count": 3
  },
  {
   "metadata": {
    "ExecuteTime": {
     "end_time": "2024-11-27T14:07:08.474304Z",
     "start_time": "2024-11-27T14:07:08.462071Z"
    }
   },
   "cell_type": "code",
   "source": [
    "all_good_games = all_good_games.head(100)\n",
    "# game_json = all_good_games[all_good_games[\"game\"].apply(lambda x: x[\"trump\"] in [4, 5])][\"game\"].iloc[0]\n",
    "game_json = all_good_games[\"game\"].iloc[0]\n",
    "game_json"
   ],
   "id": "f044539c69e72c2f",
   "outputs": [
    {
     "data": {
      "text/plain": [
       "{'version': 'V0.2',\n",
       " 'trump': 1,\n",
       " 'dealer': 2,\n",
       " 'currentPlayer': -1,\n",
       " 'forehand': 0,\n",
       " 'tricks': [{'cards': ['HA', 'H9', 'H10', 'D10'],\n",
       "   'points': 45,\n",
       "   'win': 0,\n",
       "   'first': 1},\n",
       "  {'cards': ['CJ', 'CA', 'C7', 'C10'], 'points': 23, 'win': 3, 'first': 0},\n",
       "  {'cards': ['S6', 'S10', 'SQ', 'S9'], 'points': 13, 'win': 1, 'first': 3},\n",
       "  {'cards': ['SA', 'C6', 'H7', 'S7'], 'points': 11, 'win': 3, 'first': 1},\n",
       "  {'cards': ['SK', 'SJ', 'S8', 'C8'], 'points': 6, 'win': 3, 'first': 3},\n",
       "  {'cards': ['D7', 'DJ', 'HQ', 'DA'], 'points': 16, 'win': 1, 'first': 3},\n",
       "  {'cards': ['D9', 'DK', 'HK', 'DQ'], 'points': 11, 'win': 3, 'first': 1},\n",
       "  {'cards': ['HJ', 'C9', 'H6', 'D6'], 'points': 20, 'win': 3, 'first': 3},\n",
       "  {'cards': ['H8', 'CQ', 'D8', 'CK'], 'points': 12, 'win': 3, 'first': 3}],\n",
       " 'player': [{'hand': []}, {'hand': []}, {'hand': []}, {'hand': []}],\n",
       " 'jassTyp': 'SCHIEBER'}"
      ]
     },
     "execution_count": 4,
     "metadata": {},
     "output_type": "execute_result"
    }
   ],
   "execution_count": 4
  },
  {
   "metadata": {
    "ExecuteTime": {
     "end_time": "2024-11-27T14:07:08.552480Z",
     "start_time": "2024-11-27T14:07:08.544379Z"
    }
   },
   "cell_type": "code",
   "source": [
    "def reconstruct_hands(game_json):\n",
    "    reconstructed_hands = {0: [], 1: [], 2: [], 3: []}\n",
    "\n",
    "    for trick in game_json[\"tricks\"]:\n",
    "        cards = trick[\"cards\"]\n",
    "        first_player = trick[\"first\"]\n",
    "\n",
    "        # Determine the order of players for this trick\n",
    "        for i in range(4):\n",
    "            player = (first_player + i) % 4\n",
    "            card = cards[i]\n",
    "            reconstructed_hands[player].append(card)\n",
    "\n",
    "    return reconstructed_hands\n",
    "\n",
    "\n",
    "reconstructed_hands = reconstruct_hands(game_json)\n",
    "\n",
    "for player, hand in reconstructed_hands.items():\n",
    "    print(f\"Player {player}'s reconstructed hand: {hand}\")"
   ],
   "id": "532ac4db2f0abcdd",
   "outputs": [
    {
     "name": "stdout",
     "output_type": "stream",
     "text": [
      "Player 0's reconstructed hand: ['D10', 'CJ', 'S10', 'S7', 'SJ', 'DJ', 'DQ', 'C9', 'CQ']\n",
      "Player 1's reconstructed hand: ['HA', 'CA', 'SQ', 'SA', 'S8', 'HQ', 'D9', 'H6', 'D8']\n",
      "Player 2's reconstructed hand: ['H9', 'C7', 'S9', 'C6', 'C8', 'DA', 'DK', 'D6', 'CK']\n",
      "Player 3's reconstructed hand: ['H10', 'C10', 'S6', 'H7', 'SK', 'D7', 'HK', 'HJ', 'H8']\n"
     ]
    }
   ],
   "execution_count": 5
  },
  {
   "metadata": {
    "ExecuteTime": {
     "end_time": "2024-11-27T14:07:08.598067Z",
     "start_time": "2024-11-27T14:07:08.591911Z"
    }
   },
   "cell_type": "code",
   "source": [
    "def onehot_hand(hand):\n",
    "    onehot = [0] * 36\n",
    "    for card in hand:\n",
    "        onehot[card_ids[card]] = 1\n",
    "    return onehot\n",
    "\n",
    "\n",
    "encoded_hand = onehot_hand(['D10', 'CJ', 'S10', 'S7', 'SJ', 'DJ', 'DQ', 'C9', 'CQ'])\n",
    "\n",
    "assert len(encoded_hand) == 36\n",
    "assert sum(encoded_hand) == 9"
   ],
   "id": "459e0c8eed6ef77f",
   "outputs": [],
   "execution_count": 6
  },
  {
   "metadata": {
    "ExecuteTime": {
     "end_time": "2024-11-27T14:07:08.629473Z",
     "start_time": "2024-11-27T14:07:08.615240Z"
    }
   },
   "cell_type": "code",
   "source": [
    "def generate_train_data(game_json):\n",
    "    data = {0: [], 1: [], 2: [], 3: []}\n",
    "    reconstructed_hands = reconstruct_hands(game_json)\n",
    "    last_four_moves = np.ones((4, 4, 36)) * -1\n",
    "\n",
    "    # points per team\n",
    "    points = [sum(trick[\"points\"] for trick in game_json[\"tricks\"] if trick[\"win\"] % 2 == i) for i in range(2)]\n",
    "\n",
    "    for i, trick in enumerate(game_json[\"tricks\"]):\n",
    "        first_player = trick[\"first\"]\n",
    "        cards = trick[\"cards\"]\n",
    "        for j in range(4):\n",
    "            player = (first_player + j) % 4\n",
    "            card = cards[j]\n",
    "            hand = reconstructed_hands[player]\n",
    "\n",
    "            if trick[\"win\"] == player:\n",
    "                points[player % 2] -= trick[\"points\"]\n",
    "\n",
    "            data[player].append({\n",
    "                \"state\": {\n",
    "                    \"hand\": onehot_hand(hand),\n",
    "                    \"last_four_moves\": last_four_moves,\n",
    "                    \"trump\": game_json[\"trump\"]\n",
    "                },\n",
    "                \"action\": onehot_hand([card]),\n",
    "                \"reward\": points[player % 2],\n",
    "            })\n",
    "\n",
    "            last_four_moves = np.roll(last_four_moves, 1, axis=0)\n",
    "            last_four_moves[0] = last_four_moves[1]  # move the last move to the first position\n",
    "            if -1 not in last_four_moves[0]:\n",
    "                last_four_moves[0] = np.ones((4, 36)) * -1\n",
    "\n",
    "            last_four_moves[0][player] = onehot_hand([card])\n",
    "\n",
    "            reconstructed_hands[player].remove(card)\n",
    "\n",
    "        print(points)\n",
    "\n",
    "    return data\n",
    "\n",
    "\n",
    "_ = generate_train_data(game_json)"
   ],
   "id": "7ebb8dbd46a6e782",
   "outputs": [
    {
     "name": "stdout",
     "output_type": "stream",
     "text": [
      "[0, 112]\n",
      "[0, 89]\n",
      "[0, 76]\n",
      "[0, 65]\n",
      "[0, 59]\n",
      "[0, 43]\n",
      "[0, 32]\n",
      "[0, 12]\n",
      "[0, 0]\n"
     ]
    }
   ],
   "execution_count": 7
  },
  {
   "metadata": {
    "ExecuteTime": {
     "end_time": "2024-11-27T14:07:08.691366Z",
     "start_time": "2024-11-27T14:07:08.661291Z"
    }
   },
   "cell_type": "code",
   "source": "df",
   "id": "260a482f3e709447",
   "outputs": [
    {
     "ename": "NameError",
     "evalue": "name 'df' is not defined",
     "output_type": "error",
     "traceback": [
      "\u001B[1;31m---------------------------------------------------------------------------\u001B[0m",
      "\u001B[1;31mNameError\u001B[0m                                 Traceback (most recent call last)",
      "Cell \u001B[1;32mIn[8], line 1\u001B[0m\n\u001B[1;32m----> 1\u001B[0m \u001B[43mdf\u001B[49m\n",
      "\u001B[1;31mNameError\u001B[0m: name 'df' is not defined"
     ]
    }
   ],
   "execution_count": 8
  },
  {
   "metadata": {
    "ExecuteTime": {
     "end_time": "2024-11-27T14:07:17.852575Z",
     "start_time": "2024-11-27T14:07:17.678148Z"
    }
   },
   "cell_type": "code",
   "source": [
    "def process_file(file):\n",
    "    df = pd.read_json(file, lines=True)\n",
    "    processed_data = pd.DataFrame()\n",
    "    for game_json in tqdm(df[\"game\"], desc=\"Games\", leave=False):\n",
    "        data = generate_train_data(game_json)\n",
    "        for player in range(4):\n",
    "            processed_data = pd.concat([processed_data, pd.DataFrame(data[player])])\n",
    "    return processed_data\n",
    "\n",
    "\n",
    "def save_to_json(data, filename):\n",
    "    data.to_json(filename, orient=\"records\", lines=True, mode='a')\n",
    "\n",
    "\n",
    "files = glob.glob(\"../data/swisslos/*.txt\")\n",
    "output_file = \"../data/swisslos/processed_data.json\"\n",
    "\n",
    "with ProcessPoolExecutor() as executor:\n",
    "    for i, processed_data in enumerate(executor.map(process_file, files)):\n",
    "        print(f\"Saving results from file {i + 1} / {len(files)}\")\n",
    "        save_to_json(processed_data, output_file)\n",
    "\n",
    "process_file(files[0])"
   ],
   "id": "d11db3857e271dfe",
   "outputs": [
    {
     "ename": "BrokenProcessPool",
     "evalue": "A process in the process pool was terminated abruptly while the future was running or pending.",
     "output_type": "error",
     "traceback": [
      "\u001B[1;31m---------------------------------------------------------------------------\u001B[0m",
      "\u001B[1;31mBrokenProcessPool\u001B[0m                         Traceback (most recent call last)",
      "Cell \u001B[1;32mIn[9], line 19\u001B[0m\n\u001B[0;32m     16\u001B[0m output_file \u001B[38;5;241m=\u001B[39m \u001B[38;5;124m\"\u001B[39m\u001B[38;5;124m../data/swisslos/processed_data.json\u001B[39m\u001B[38;5;124m\"\u001B[39m\n\u001B[0;32m     18\u001B[0m \u001B[38;5;28;01mwith\u001B[39;00m ProcessPoolExecutor() \u001B[38;5;28;01mas\u001B[39;00m executor:\n\u001B[1;32m---> 19\u001B[0m     \u001B[38;5;28;01mfor\u001B[39;00m i, processed_data \u001B[38;5;129;01min\u001B[39;00m \u001B[38;5;28menumerate\u001B[39m(executor\u001B[38;5;241m.\u001B[39mmap(process_file, files)):\n\u001B[0;32m     20\u001B[0m         \u001B[38;5;28mprint\u001B[39m(\u001B[38;5;124mf\u001B[39m\u001B[38;5;124m\"\u001B[39m\u001B[38;5;124mSaving results from file \u001B[39m\u001B[38;5;132;01m{\u001B[39;00mi\u001B[38;5;250m \u001B[39m\u001B[38;5;241m+\u001B[39m\u001B[38;5;250m \u001B[39m\u001B[38;5;241m1\u001B[39m\u001B[38;5;132;01m}\u001B[39;00m\u001B[38;5;124m / \u001B[39m\u001B[38;5;132;01m{\u001B[39;00m\u001B[38;5;28mlen\u001B[39m(files)\u001B[38;5;132;01m}\u001B[39;00m\u001B[38;5;124m\"\u001B[39m)\n\u001B[0;32m     21\u001B[0m         save_to_json(processed_data, output_file)\n",
      "File \u001B[1;32m~\\AppData\\Local\\Programs\\Python\\Python310\\lib\\concurrent\\futures\\process.py:567\u001B[0m, in \u001B[0;36m_chain_from_iterable_of_lists\u001B[1;34m(iterable)\u001B[0m\n\u001B[0;32m    561\u001B[0m \u001B[38;5;28;01mdef\u001B[39;00m \u001B[38;5;21m_chain_from_iterable_of_lists\u001B[39m(iterable):\n\u001B[0;32m    562\u001B[0m \u001B[38;5;250m    \u001B[39m\u001B[38;5;124;03m\"\"\"\u001B[39;00m\n\u001B[0;32m    563\u001B[0m \u001B[38;5;124;03m    Specialized implementation of itertools.chain.from_iterable.\u001B[39;00m\n\u001B[0;32m    564\u001B[0m \u001B[38;5;124;03m    Each item in *iterable* should be a list.  This function is\u001B[39;00m\n\u001B[0;32m    565\u001B[0m \u001B[38;5;124;03m    careful not to keep references to yielded objects.\u001B[39;00m\n\u001B[0;32m    566\u001B[0m \u001B[38;5;124;03m    \"\"\"\u001B[39;00m\n\u001B[1;32m--> 567\u001B[0m     \u001B[38;5;28;01mfor\u001B[39;00m element \u001B[38;5;129;01min\u001B[39;00m iterable:\n\u001B[0;32m    568\u001B[0m         element\u001B[38;5;241m.\u001B[39mreverse()\n\u001B[0;32m    569\u001B[0m         \u001B[38;5;28;01mwhile\u001B[39;00m element:\n",
      "File \u001B[1;32m~\\AppData\\Local\\Programs\\Python\\Python310\\lib\\concurrent\\futures\\_base.py:608\u001B[0m, in \u001B[0;36mExecutor.map.<locals>.result_iterator\u001B[1;34m()\u001B[0m\n\u001B[0;32m    605\u001B[0m \u001B[38;5;28;01mwhile\u001B[39;00m fs:\n\u001B[0;32m    606\u001B[0m     \u001B[38;5;66;03m# Careful not to keep a reference to the popped future\u001B[39;00m\n\u001B[0;32m    607\u001B[0m     \u001B[38;5;28;01mif\u001B[39;00m timeout \u001B[38;5;129;01mis\u001B[39;00m \u001B[38;5;28;01mNone\u001B[39;00m:\n\u001B[1;32m--> 608\u001B[0m         \u001B[38;5;28;01myield\u001B[39;00m \u001B[43mfs\u001B[49m\u001B[38;5;241;43m.\u001B[39;49m\u001B[43mpop\u001B[49m\u001B[43m(\u001B[49m\u001B[43m)\u001B[49m\u001B[38;5;241;43m.\u001B[39;49m\u001B[43mresult\u001B[49m\u001B[43m(\u001B[49m\u001B[43m)\u001B[49m\n\u001B[0;32m    609\u001B[0m     \u001B[38;5;28;01melse\u001B[39;00m:\n\u001B[0;32m    610\u001B[0m         \u001B[38;5;28;01myield\u001B[39;00m fs\u001B[38;5;241m.\u001B[39mpop()\u001B[38;5;241m.\u001B[39mresult(end_time \u001B[38;5;241m-\u001B[39m time\u001B[38;5;241m.\u001B[39mmonotonic())\n",
      "File \u001B[1;32m~\\AppData\\Local\\Programs\\Python\\Python310\\lib\\concurrent\\futures\\_base.py:445\u001B[0m, in \u001B[0;36mFuture.result\u001B[1;34m(self, timeout)\u001B[0m\n\u001B[0;32m    443\u001B[0m     \u001B[38;5;28;01mraise\u001B[39;00m CancelledError()\n\u001B[0;32m    444\u001B[0m \u001B[38;5;28;01melif\u001B[39;00m \u001B[38;5;28mself\u001B[39m\u001B[38;5;241m.\u001B[39m_state \u001B[38;5;241m==\u001B[39m FINISHED:\n\u001B[1;32m--> 445\u001B[0m     \u001B[38;5;28;01mreturn\u001B[39;00m \u001B[38;5;28;43mself\u001B[39;49m\u001B[38;5;241;43m.\u001B[39;49m\u001B[43m__get_result\u001B[49m\u001B[43m(\u001B[49m\u001B[43m)\u001B[49m\n\u001B[0;32m    446\u001B[0m \u001B[38;5;28;01melse\u001B[39;00m:\n\u001B[0;32m    447\u001B[0m     \u001B[38;5;28;01mraise\u001B[39;00m \u001B[38;5;167;01mTimeoutError\u001B[39;00m()\n",
      "File \u001B[1;32m~\\AppData\\Local\\Programs\\Python\\Python310\\lib\\concurrent\\futures\\_base.py:390\u001B[0m, in \u001B[0;36mFuture.__get_result\u001B[1;34m(self)\u001B[0m\n\u001B[0;32m    388\u001B[0m \u001B[38;5;28;01mif\u001B[39;00m \u001B[38;5;28mself\u001B[39m\u001B[38;5;241m.\u001B[39m_exception:\n\u001B[0;32m    389\u001B[0m     \u001B[38;5;28;01mtry\u001B[39;00m:\n\u001B[1;32m--> 390\u001B[0m         \u001B[38;5;28;01mraise\u001B[39;00m \u001B[38;5;28mself\u001B[39m\u001B[38;5;241m.\u001B[39m_exception\n\u001B[0;32m    391\u001B[0m     \u001B[38;5;28;01mfinally\u001B[39;00m:\n\u001B[0;32m    392\u001B[0m         \u001B[38;5;66;03m# Break a reference cycle with the exception in self._exception\u001B[39;00m\n\u001B[0;32m    393\u001B[0m         \u001B[38;5;28mself\u001B[39m \u001B[38;5;241m=\u001B[39m \u001B[38;5;28;01mNone\u001B[39;00m\n",
      "\u001B[1;31mBrokenProcessPool\u001B[0m: A process in the process pool was terminated abruptly while the future was running or pending."
     ]
    }
   ],
   "execution_count": 9
  },
  {
   "metadata": {},
   "cell_type": "code",
   "outputs": [],
   "execution_count": null,
   "source": "processed_data.to_json(\"../data/swisslos/processed_data.json\", orient=\"records\", lines=True)",
   "id": "befcdabc571a48e2"
  }
 ],
 "metadata": {
  "kernelspec": {
   "display_name": "Python 3",
   "language": "python",
   "name": "python3"
  },
  "language_info": {
   "codemirror_mode": {
    "name": "ipython",
    "version": 2
   },
   "file_extension": ".py",
   "mimetype": "text/x-python",
   "name": "python",
   "nbconvert_exporter": "python",
   "pygments_lexer": "ipython2",
   "version": "2.7.6"
  }
 },
 "nbformat": 4,
 "nbformat_minor": 5
}
