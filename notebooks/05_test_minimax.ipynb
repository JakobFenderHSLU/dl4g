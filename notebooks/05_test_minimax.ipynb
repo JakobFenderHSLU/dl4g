{
 "cells": [
  {
   "cell_type": "code",
   "id": "initial_id",
   "metadata": {
    "collapsed": true,
    "ExecuteTime": {
     "end_time": "2024-10-15T11:04:21.246333Z",
     "start_time": "2024-10-15T11:04:20.194213Z"
    }
   },
   "source": [
    "import numpy as np\n",
    "from jass.game.const import card_strings\n",
    "from jass.game.game_sim import GameSim\n",
    "from jass.game.rule_schieber import RuleSchieber\n",
    "\n",
    "from play_rule_strategy.mini_max.mini_maxer import MiniMaxer\n",
    "from play_strategy.random_play_strategy import RandomPlayStrategy\n",
    "from trump_strategy.deep_nn_trump_strategy import DeepNNTrumpStrategy"
   ],
   "outputs": [],
   "execution_count": 1
  },
  {
   "metadata": {
    "ExecuteTime": {
     "end_time": "2024-10-15T11:04:21.261472Z",
     "start_time": "2024-10-15T11:04:21.248485Z"
    }
   },
   "cell_type": "code",
   "source": [
    "hands = np.array([\n",
    "    [1, 0, 0, 0, 0, 1, 0, 0, 1, 0, 1, 0, 0, 1, 0, 1, 0, 0, 0, 0, 0, 1, 1, 0, 0, 0, 0, 1, 0, 0, 0, 0, 0, 0, 0, 0],\n",
    "    [0, 1, 0, 0, 1, 0, 0, 0, 0, 0, 0, 0, 1, 0, 0, 0, 1, 0, 0, 1, 1, 0, 0, 1, 0, 0, 0, 0, 0, 0, 1, 0, 1, 0, 0, 0],\n",
    "    [0, 0, 0, 1, 0, 0, 0, 1, 0, 0, 0, 1, 0, 0, 0, 0, 0, 1, 0, 0, 0, 0, 0, 0, 1, 1, 0, 0, 1, 1, 0, 1, 0, 0, 0, 0],\n",
    "    [0, 0, 1, 0, 0, 0, 1, 0, 0, 1, 0, 0, 0, 0, 1, 0, 0, 0, 1, 0, 0, 0, 0, 0, 0, 0, 1, 0, 0, 0, 0, 0, 0, 1, 1, 1]\n",
    "])"
   ],
   "id": "1f9e8347caf56a9e",
   "outputs": [],
   "execution_count": 2
  },
  {
   "metadata": {
    "ExecuteTime": {
     "end_time": "2024-10-15T11:04:21.478883Z",
     "start_time": "2024-10-15T11:04:21.369915Z"
    }
   },
   "cell_type": "code",
   "source": [
    "from jass.game.const import trump_strings_german_long\n",
    "\n",
    "game_sim = GameSim(RuleSchieber())\n",
    "# dealer = random.randint(0, 3)\n",
    "dealer = 0\n",
    "\n",
    "trump_strategy = DeepNNTrumpStrategy(\"../data/deep_nn_trump_selector.pt\")\n",
    "random_play = RandomPlayStrategy(seed=43)\n",
    "\n",
    "game_sim.init_from_cards(hands, dealer)\n",
    "\n",
    "# Disable PUSH to simplify the game\n",
    "obs = game_sim.get_observation()\n",
    "obs.forehand = 1\n",
    "\n",
    "best_trump = trump_strategy.choose_trump(obs)\n",
    "game_sim.action_trump(best_trump)\n",
    "n_player_cards = 2\n",
    "while (game_sim.get_observation().player != 0\n",
    "       or game_sim.state.hands[0].sum() > n_player_cards):\n",
    "    game_sim.action_play_card(random_play.choose_card(game_sim.get_observation()), )\n",
    "\n",
    "# player one hand cast to string\n",
    "print(f\"trump: {trump_strings_german_long[game_sim.state.trump]}\")\n",
    "\n",
    "current_trick_string = [card_strings[i] if i != -1 else \"None\" for i in game_sim.state.current_trick]\n",
    "print(f\"Current Trick: {current_trick_string}\")\n",
    "\n",
    "print(f\"Player 1 hand: {[card_strings[i] for i in np.where(game_sim.state.hands[0] == 1)[0]]}\")\n",
    "print(f\"Player 2 hand: {[card_strings[i] for i in np.where(game_sim.state.hands[1] == 1)[0]]}\")\n",
    "print(f\"Player 3 hand: {[card_strings[i] for i in np.where(game_sim.state.hands[2] == 1)[0]]}\")\n",
    "print(f\"Player 4 hand: {[card_strings[i] for i in np.where(game_sim.state.hands[3] == 1)[0]]}\")\n",
    "\n",
    "print((game_sim.get_observation().points[0] - game_sim.get_observation().points[1]) / 157)"
   ],
   "id": "2ed3dd757ad2f1db",
   "outputs": [
    {
     "name": "stdout",
     "output_type": "stream",
     "text": [
      "trump: U: Une-Ufe\n",
      "Current Trick: ['S9', 'None', 'None', 'None']\n",
      "Player 1 hand: ['HK', 'H8']\n",
      "Player 2 hand: ['HJ']\n",
      "Player 3 hand: ['H6', 'CQ']\n",
      "Player 4 hand: ['H9', 'C7']\n",
      "-0.5732484076433121\n"
     ]
    }
   ],
   "execution_count": 3
  },
  {
   "metadata": {
    "ExecuteTime": {
     "end_time": "2024-10-15T11:04:21.540740Z",
     "start_time": "2024-10-15T11:04:21.534741Z"
    }
   },
   "cell_type": "code",
   "source": [
    "\n",
    "mini_maxer = MiniMaxer()\n",
    "\n",
    "root = mini_maxer.search(game_sim.state, 10)\n",
    "\n",
    "mini_maxer.print_tree(root)"
   ],
   "id": "590ed24a60bd6b9d",
   "outputs": [
    {
     "name": "stdout",
     "output_type": "stream",
     "text": [
      " ROOT: -0.45222929936305734\n",
      "     HK: -0.45222929936305734\n",
      "         H9: -0.45222929936305734\n",
      "             H6: -0.554140127388535\n",
      "                 HJ: -0.554140127388535\n",
      "                     H8: -0.554140127388535\n",
      "                         C7: -0.554140127388535\n",
      "                             CQ: 0\n",
      "             CQ: -0.45222929936305734\n",
      "                 HJ: -0.45222929936305734\n",
      "                     H8: -0.45222929936305734\n",
      "                         C7: -0.45222929936305734\n",
      "                             H6: 0\n",
      "         C7: -0.45222929936305734\n",
      "             H6: -0.554140127388535\n",
      "                 HJ: -0.554140127388535\n",
      "                     H8: -0.554140127388535\n",
      "                         H9: -0.554140127388535\n",
      "                             CQ: 0\n",
      "             CQ: -0.45222929936305734\n",
      "                 HJ: -0.45222929936305734\n",
      "                     H8: -0.45222929936305734\n",
      "                         H9: -0.45222929936305734\n",
      "                             H6: 0\n",
      "     H8: -0.5031847133757962\n",
      "         H9: -0.5031847133757962\n",
      "             H6: -0.7834394904458599\n",
      "                 HJ: -0.7834394904458599\n",
      "                     HK: -0.7834394904458599\n",
      "                         C7: -0.7834394904458599\n",
      "                             CQ: 0\n",
      "             CQ: -0.5031847133757962\n",
      "                 HJ: -0.5031847133757962\n",
      "                     HK: -0.5031847133757962\n",
      "                         C7: -0.5031847133757962\n",
      "                             H6: 0\n",
      "         C7: -0.5031847133757962\n",
      "             H6: -0.7834394904458599\n",
      "                 HJ: -0.7834394904458599\n",
      "                     HK: -0.7834394904458599\n",
      "                         H9: -0.7834394904458599\n",
      "                             CQ: 0\n",
      "             CQ: -0.5031847133757962\n",
      "                 HJ: -0.5031847133757962\n",
      "                     HK: -0.5031847133757962\n",
      "                         H9: -0.5031847133757962\n",
      "                             H6: 0\n"
     ]
    }
   ],
   "execution_count": 4
  }
 ],
 "metadata": {
  "kernelspec": {
   "display_name": "Python 3",
   "language": "python",
   "name": "python3"
  },
  "language_info": {
   "codemirror_mode": {
    "name": "ipython",
    "version": 2
   },
   "file_extension": ".py",
   "mimetype": "text/x-python",
   "name": "python",
   "nbconvert_exporter": "python",
   "pygments_lexer": "ipython2",
   "version": "2.7.6"
  }
 },
 "nbformat": 4,
 "nbformat_minor": 5
}
