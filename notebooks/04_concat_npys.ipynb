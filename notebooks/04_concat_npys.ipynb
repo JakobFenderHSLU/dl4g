{
 "cells": [
  {
   "cell_type": "code",
   "id": "initial_id",
   "metadata": {
    "collapsed": true,
    "ExecuteTime": {
     "end_time": "2024-08-26T18:08:37.103489Z",
     "start_time": "2024-08-26T18:08:37.100489Z"
    }
   },
   "source": [
    "import numpy as np\n",
    "import pandas as pd"
   ],
   "outputs": [],
   "execution_count": 10
  },
  {
   "metadata": {
    "ExecuteTime": {
     "end_time": "2024-08-26T18:08:41.519746Z",
     "start_time": "2024-08-26T18:08:41.255625Z"
    }
   },
   "cell_type": "code",
   "source": [
    "decks = np.concatenate((np.load('../data/trump_data_generator/cached_decks_0.npy'), np.load('../data/trump_data_generator/cached_decks_1.npy')))\n",
    "# remove rows where sum is 0\n",
    "decks = decks[np.sum(decks, axis=1) != 0]\n",
    "decks.sum(axis=1).sum(), decks.shape, decks.sum(axis=1).sum() / decks.shape[0]"
   ],
   "id": "e27f65ce0bcd4ee1",
   "outputs": [
    {
     "data": {
      "text/plain": [
       "(1253700000, (1990000, 36), 630.0)"
      ]
     },
     "execution_count": 11,
     "metadata": {},
     "output_type": "execute_result"
    }
   ],
   "execution_count": 11
  },
  {
   "metadata": {
    "ExecuteTime": {
     "end_time": "2024-08-26T18:08:46.056016Z",
     "start_time": "2024-08-26T18:08:45.026444Z"
    }
   },
   "cell_type": "code",
   "source": [
    "hands = np.concatenate((np.load('../data/trump_data_generator/cached_results_0.npy'), np.load('../data/trump_data_generator/cached_results_1.npy')))\n",
    "\n",
    "# hands = hands[np.sum(decks, axis=1) != 0]  # err: IndexError: boolean index did not match indexed array along dimension 1; dimension is 6 but corresponding boolean dimension is 20\n",
    "# hands = hands[np.sum(hands, axis=1).sum() != 0]\n",
    "\n",
    "hands = hands[hands.sum(axis=1).sum(axis=1) != 0]\n",
    "\n",
    "hands.shape"
   ],
   "id": "cfd93fa60e2883f9",
   "outputs": [
    {
     "data": {
      "text/plain": [
       "(1990000, 6, 20)"
      ]
     },
     "execution_count": 12,
     "metadata": {},
     "output_type": "execute_result"
    }
   ],
   "execution_count": 12
  },
  {
   "metadata": {
    "ExecuteTime": {
     "end_time": "2024-08-26T18:09:58.929405Z",
     "start_time": "2024-08-26T18:09:58.748159Z"
    }
   },
   "cell_type": "code",
   "source": "np.save('../data/trump_data_generator/cached_decks.npy', decks)",
   "id": "b0a92cbe70747049",
   "outputs": [],
   "execution_count": 14
  },
  {
   "metadata": {
    "ExecuteTime": {
     "end_time": "2024-08-26T18:10:00.335685Z",
     "start_time": "2024-08-26T18:09:59.780813Z"
    }
   },
   "cell_type": "code",
   "source": "np.save('../data/trump_data_generator/cached_results.npy', hands)",
   "id": "9fbf13a4639391cc",
   "outputs": [],
   "execution_count": 15
  }
 ],
 "metadata": {
  "kernelspec": {
   "display_name": "Python 3",
   "language": "python",
   "name": "python3"
  },
  "language_info": {
   "codemirror_mode": {
    "name": "ipython",
    "version": 2
   },
   "file_extension": ".py",
   "mimetype": "text/x-python",
   "name": "python",
   "nbconvert_exporter": "python",
   "pygments_lexer": "ipython2",
   "version": "2.7.6"
  }
 },
 "nbformat": 4,
 "nbformat_minor": 5
}
